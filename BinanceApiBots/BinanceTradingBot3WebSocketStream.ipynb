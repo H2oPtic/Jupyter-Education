{
 "cells": [
  {
   "cell_type": "code",
   "execution_count": null,
   "id": "402b0043",
   "metadata": {},
   "outputs": [],
   "source": [
    "from binance import Client, ThreadedWebsocketManager, ThreadedDepthCacheManager\n",
    "import pandas as pd\n",
    "import csv\n",
    "import json\n",
    "import btalib\n",
    "from binance.enums import *\n",
    "from binance.exceptions import BinanceAPIException, BinanceOrderException"
   ]
  },
  {
   "cell_type": "code",
   "execution_count": null,
   "id": "782c0548",
   "metadata": {},
   "outputs": [],
   "source": []
  },
  {
   "cell_type": "code",
   "execution_count": null,
   "id": "a5d63794",
   "metadata": {},
   "outputs": [],
   "source": [
    "#Connecting API client to api account\n",
    "client = Client(api_key, api_secret)\n",
    "price = {'BTCUSDT': None, 'error': False}"
   ]
  },
  {
   "cell_type": "code",
   "execution_count": null,
   "id": "e450b7ed",
   "metadata": {},
   "outputs": [],
   "source": [
    "#Printing account information\n",
    "client.get_account()"
   ]
  },
  {
   "cell_type": "code",
   "execution_count": null,
   "id": "5e2e83ee",
   "metadata": {},
   "outputs": [],
   "source": [
    "# get balance for a specific asset only (BTC)\n",
    "print(client.get_asset_balance(asset='BTC'))"
   ]
  },
  {
   "cell_type": "code",
   "execution_count": null,
   "id": "1c0ef447",
   "metadata": {},
   "outputs": [],
   "source": [
    "# get latest price from Binance API\n",
    "btc_price = client.get_symbol_ticker(symbol=\"BTCUSDT\")\n",
    "# print full output (dictionary)\n",
    "print(btc_price['price'])"
   ]
  },
  {
   "cell_type": "code",
   "execution_count": null,
   "id": "2f46559a",
   "metadata": {},
   "outputs": [],
   "source": [
    "from time import sleep"
   ]
  },
  {
   "cell_type": "code",
   "execution_count": null,
   "id": "bb730a92",
   "metadata": {},
   "outputs": [],
   "source": [
    "#Creating a dictionary to hold our price and let us know of a problem with the web socket\n",
    "btc_price = {'error':False}"
   ]
  },
  {
   "cell_type": "code",
   "execution_count": null,
   "id": "d6975626",
   "metadata": {},
   "outputs": [],
   "source": [
    "#Function telling the web socket what to do with the data\n",
    "def btc_trade_history(msg):\n",
    "    ''' define how to process incoming WebSocket messages '''\n",
    "    if msg['e'] != 'error':\n",
    "        print(msg['c'])\n",
    "        btc_price['last'] = msg['c']\n",
    "        btc_price['bid'] = msg['b']\n",
    "        btc_price['last'] = msg['a']\n",
    "        btc_price['error'] = False\n",
    "    else:\n",
    "        btc_price['error'] = True"
   ]
  },
  {
   "cell_type": "code",
   "execution_count": null,
   "id": "580904d9",
   "metadata": {},
   "outputs": [],
   "source": [
    "# init and start the WebSocket\n",
    "bsm = ThreadedWebsocketManager()\n"
   ]
  },
  {
   "cell_type": "code",
   "execution_count": null,
   "id": "4afa5ff5",
   "metadata": {},
   "outputs": [],
   "source": [
    "# subscribe to a stream\n",
    "bsm.start_symbol_ticker_socket(callback=btc_trade_history, symbol='BTCUSDT')\n",
    "bsm.start_symbol_ticker_socket(callback=btc_trade_history, symbol='ETHUSDT')"
   ]
  },
  {
   "cell_type": "code",
   "execution_count": null,
   "id": "e8117340",
   "metadata": {},
   "outputs": [],
   "source": [
    "# stop websocket\n",
    "bsm.stop()"
   ]
  },
  {
   "cell_type": "code",
   "execution_count": null,
   "id": "4dae5059",
   "metadata": {},
   "outputs": [],
   "source": [
    "#Full data info\n",
    "help(ThreadedWebsocketManager)"
   ]
  },
  {
   "cell_type": "code",
   "execution_count": null,
   "id": "f4234625",
   "metadata": {
    "scrolled": true
   },
   "outputs": [],
   "source": [
    "# valid intervals - 1m, 3m, 5m, 15m, 30m, 1h, 2h, 4h, 6h, 8h, 12h, 1d, 3d, 1w, 1M\n",
    "\n",
    "# get timestamp of earliest date data available\\converted from Unix time using Pandas\n",
    "timestamp = client._get_earliest_valid_timestamp('BTCUSDT', '1d')\n",
    "print(pd.to_datetime(timestamp, unit='ms'))"
   ]
  },
  {
   "cell_type": "code",
   "execution_count": null,
   "id": "c3242d75",
   "metadata": {},
   "outputs": [],
   "source": [
    "# request historical candle (or klines) data\n",
    "bars = pd.DataFrame(client.get_historical_klines('BTCUSDT', '1d', timestamp, limit=1000))\n",
    "bars = bars.iloc[:,:5]\n",
    "bars.columns=['date', 'open', 'high', 'low', 'close']\n"
   ]
  },
  {
   "cell_type": "code",
   "execution_count": null,
   "id": "cf6ae9b2",
   "metadata": {},
   "outputs": [],
   "source": [
    "# option 1 - save to file using json method\n",
    "with open('btc_bars.json', 'w') as e:\n",
    "    json.dump(bars, e)"
   ]
  },
  {
   "cell_type": "code",
   "execution_count": null,
   "id": "320619c2",
   "metadata": {},
   "outputs": [],
   "source": [
    "# option 2 - save as CSV file using the csv writer library\n",
    "with open('btc_bars.csv', 'w', newline='') as f:\n",
    "        wr = csv.writer(f)\n",
    "    for line in bars:\n",
    "        wr.writerow(line)"
   ]
  },
  {
   "cell_type": "code",
   "execution_count": null,
   "id": "950c1b89",
   "metadata": {},
   "outputs": [],
   "source": [
    "# option 3 - save as CSV file without using a library(allows to choose columns as you save)\n",
    "with open('btc_bars2.csv', 'w') as d:\n",
    "    for line in bars:\n",
    "        d.write(f'{line[0]}, {line[1]}, {line[2]}, {line[3]}, {line[4]}\\n')"
   ]
  },
  {
   "cell_type": "code",
   "execution_count": null,
   "id": "c585bd13",
   "metadata": {},
   "outputs": [],
   "source": [
    "# option 4 - create a Pandas DataFrame and export to CSV(best if planning on holding data in a DataFrame)\n",
    "btc_df = pd.DataFrame(bars)\n",
    "btc_df.set_index('date', inplace=True)\n",
    "btc_df.index = pd.to_datetime(btc_df.index, unit='ms')\n",
    "print(btc_df.head())"
   ]
  },
  {
   "cell_type": "code",
   "execution_count": null,
   "id": "c38dd72d",
   "metadata": {},
   "outputs": [],
   "source": [
    "# export DataFrame to csv\n",
    "btc_df.to_csv('btc_bars3.csv')"
   ]
  },
  {
   "cell_type": "code",
   "execution_count": null,
   "id": "22c419ae",
   "metadata": {},
   "outputs": [],
   "source": [
    "# load DataFrame\n",
    "btc_df = pd.read_csv('btc_bars3.csv', index_col=0)\n",
    "\n",
    "# calculate 20 moving average using Pandas\n",
    "btc_df['20 Day MA'] = btc_df.close.rolling(20).mean()\n",
    "print(btc_df.tail(5))"
   ]
  },
  {
   "cell_type": "code",
   "execution_count": null,
   "id": "91bdb205",
   "metadata": {},
   "outputs": [],
   "source": [
    "# calculate just the last value for the 20 moving average\n",
    "mean = btc_df.close.tail(20).mean()\n",
    "mean"
   ]
  },
  {
   "cell_type": "code",
   "execution_count": null,
   "id": "4e5c559e",
   "metadata": {},
   "outputs": [],
   "source": [
    "#Using Bta-library to calculate moving averages(30 day moving average default). returns type=object(use .df to output)\n",
    "sma = btalib.sma(btc_df.close)\n",
    "print(sma.df)\n"
   ]
  },
  {
   "cell_type": "code",
   "execution_count": null,
   "id": "01acfc79",
   "metadata": {},
   "outputs": [],
   "source": [
    "# create sma and attach as column to original df\n",
    "btc_df['sma'] = btalib.sma(btc_df.close, period=20).df\n",
    "print(btc_df.tail())"
   ]
  },
  {
   "cell_type": "code",
   "execution_count": null,
   "id": "ef94d123",
   "metadata": {},
   "outputs": [],
   "source": [
    "#Calculating RSI using Bta-library, returns type=object(use .df to output)\n",
    "rsi = btalib.rsi(btc_df, period=14)\n",
    "rsi.df\n",
    "#We can print the last value with this command\n",
    "print(rsi.df.rsi[-1])\n"
   ]
  },
  {
   "cell_type": "code",
   "execution_count": null,
   "id": "20fae16f",
   "metadata": {},
   "outputs": [],
   "source": [
    "#Calculating MACD using Bta-library. Returns type=Object(use .df to output)\n",
    "macd = btalib.macd(btc_df, pfast=20, pslow=50, psignal=13)\n",
    "macd.df"
   ]
  },
  {
   "cell_type": "code",
   "execution_count": null,
   "id": "453b8a28",
   "metadata": {},
   "outputs": [],
   "source": [
    "# join the rsi and macd calculations as columns in original df\n",
    "btc_df = btc_df.join([rsi.df, macd.df])\n",
    "print(btc_df.tail())"
   ]
  },
  {
   "cell_type": "code",
   "execution_count": null,
   "id": "0f94e450",
   "metadata": {},
   "outputs": [],
   "source": [
    "#Create a Limit Sell order\n",
    "sell_order_limit = client.create_order(\n",
    "    symbol='BTCUSDT',\n",
    "    side='SELL',\n",
    "    type='LIMIT',\n",
    "    timeInForce='GTC',\n",
    "    quantity=0.001,\n",
    "    price=50000)"
   ]
  },
  {
   "cell_type": "code",
   "execution_count": null,
   "id": "60510875",
   "metadata": {},
   "outputs": [],
   "source": [
    "#Creating an order with an Exception block(Order confirmation stored in Variable)\n",
    "\n",
    "try:\n",
    "    sell_limit = client.create_order(\n",
    "        symbol='BTCUSDT',\n",
    "        side='SELL',\n",
    "        type='LIMIT',\n",
    "        timeInForce='GTC',\n",
    "        quantity=0.001,\n",
    "        price=50000)\n",
    "\n",
    "except BinanceAPIException as e:\n",
    "    # error handling goes here\n",
    "    print(e)\n",
    "except BinanceOrderException as e:\n",
    "    # error handling goes here\n",
    "    print(e)"
   ]
  },
  {
   "cell_type": "code",
   "execution_count": null,
   "id": "f1224802",
   "metadata": {},
   "outputs": [],
   "source": [
    "#Checking order confirmation(Dictionary Format)\n",
    "sell_limit"
   ]
  },
  {
   "cell_type": "code",
   "execution_count": null,
   "id": "f804f401",
   "metadata": {},
   "outputs": [],
   "source": [
    "#cancel previous orders using orderID(Confirmation stored in Variable)\n",
    "cancel = client.cancel_order(symbol='BTCUSDT', orderId=sell_limit['orderId'])"
   ]
  },
  {
   "cell_type": "code",
   "execution_count": null,
   "id": "b15db800",
   "metadata": {},
   "outputs": [],
   "source": [
    "#checking cancel confirmation\n",
    "cancel"
   ]
  },
  {
   "cell_type": "code",
   "execution_count": null,
   "id": "68d704b5",
   "metadata": {},
   "outputs": [],
   "source": [
    "#Limit Order using a helper function\n",
    "sell_limit = client.order_limit_sell(symbol='BTCUSDT', quantity=0.001, price=50000)\n",
    "\n",
    "#market order using a helper function\n",
    "#market_order = client.order_market_sell(symbol='ETHUSDT', quantity=100)"
   ]
  },
  {
   "cell_type": "code",
   "execution_count": null,
   "id": "c61bf35e",
   "metadata": {},
   "outputs": [],
   "source": [
    "# Helper-Function\n",
    "#     order_limit_buy()\n",
    "#     order_limit_sell()\n",
    "#     order_market_buy()\n",
    "#     order_market_sell()\n",
    "#     order_oco_buy()\n",
    "#     order_ocosell()"
   ]
  },
  {
   "cell_type": "code",
   "execution_count": null,
   "id": "25c01e42",
   "metadata": {},
   "outputs": [],
   "source": [
    "#Implementing a stop loss order\n",
    "try:\n",
    "    order = client.create_oco_order(\n",
    "        symbol='BTCUSDT',\n",
    "        side='SELL',\n",
    "        quantity=0.001,\n",
    "        price=30000,\n",
    "        stopPrice=28500,\n",
    "        stopLimitPrice=28500,\n",
    "        stopLimitTimeInForce='GTC')\n",
    "\n",
    "except BinanceAPIException as e:\n",
    "    # error handling goes here\n",
    "    print(e)\n",
    "except BinanceOrderException as e:\n",
    "    # error handling goes here\n",
    "    print(e)"
   ]
  },
  {
   "cell_type": "code",
   "execution_count": null,
   "id": "af3850d4",
   "metadata": {},
   "outputs": [],
   "source": [
    "# use exchange info to confirm order types\n",
    "info = client.get_symbol_info('ETHUSDT')\n",
    "print(info['orderTypes'])"
   ]
  },
  {
   "cell_type": "code",
   "execution_count": null,
   "id": "63a67e94",
   "metadata": {},
   "outputs": [],
   "source": [
    "#Purchasing ETH when BTC Goes higher than 50,000 Dollars\n",
    "bsm = ThreadedWebsocketManager()\n",
    "bsm.start()\n",
    "bsm.start_symbol_ticker_socket(symbol='BTCUSDT', callback=btc_pairs_trade)\n",
    "price = {'BTCUSDT': None, 'error': False}\n",
    "\n",
    "\n",
    "#Callback function where the Websocket data flows through\n",
    "def btc_pairs_trade(msg):\n",
    "    ''' define how to process incoming WebSocket messages '''\n",
    "    if msg['e'] != 'error':\n",
    "        price['BTCUSDT'] = float(msg['c'])\n",
    "    else:\n",
    "        price['error'] = True\n",
    "\n",
    "\n",
    "while True:\n",
    "    # error check to make sure WebSocket is working\n",
    "    if price['error']:\n",
    "        # stop and restart socket\n",
    "        bsm.stop()\n",
    "        sleep(2)\n",
    "        bsm.start()\n",
    "        price['error'] = False\n",
    "\n",
    "    else:\n",
    "        if price['BTCUSDT'] > 50000:\n",
    "            try:\n",
    "                order = client.order_market_buy(symbol='ETHUSDT', quantity=100)\n",
    "                break\n",
    "            except Exception as e:\n",
    "                print(e)\n",
    "\n",
    "    sleep(0.1)"
   ]
  },
  {
   "cell_type": "code",
   "execution_count": null,
   "id": "3ffd59ab",
   "metadata": {},
   "outputs": [],
   "source": [
    "bsm.stop()"
   ]
  },
  {
   "cell_type": "code",
   "execution_count": null,
   "id": "a56f4d7b",
   "metadata": {},
   "outputs": [],
   "source": [
    "#Executing ETH trade when BTC moves 5% in last 5 min\n",
    "price = {'BTCUSDT': pd.DataFrame(columns=['date', 'price']), 'error': False}\n",
    "#Call back function\n",
    "def btc_pairs_trade(msg):\n",
    "    ''' define how to process incoming WebSocket messages '''\n",
    "    if msg['e'] != 'error':\n",
    "        price['BTCUSDT'].loc[len(price['BTCUSDT'])] = [pd.Timestamp.now(), float(msg['c'])]\n",
    "    else:\n",
    "        price['error'] = True\n",
    "        \n",
    "# init and start the WebSocket\n",
    "bsm = ThreadedWebsocketManager()\n",
    "bsm.start()\n",
    "bsm.start_symbol_ticker_socket(symbol='BTCUSDT', callback=btc_pairs_trade)\n",
    "\n",
    "## main\n",
    "while len(price['BTCUSDT']) == 0:\n",
    "        # wait for WebSocket to start streaming data\n",
    "        sleep(0.1)\n",
    "        \n",
    "sleep(300)\n",
    "\n",
    "while True:\n",
    "        # error check to make sure WebSocket is working\n",
    "    if price['error']:\n",
    "        # stop and restart socket\n",
    "        bsm.stop()\n",
    "        sleep(2)\n",
    "        bsm.start()\n",
    "        price['error'] = False\n",
    "    else:\n",
    "                df = price['BTCUSDT']\n",
    "                start_time = df.date.iloc[-1] - pd.Timedelta(minutes=5)\n",
    "                df = df.loc[df.date >= start_time]\n",
    "                max_price = df.price.max()\n",
    "                min_price = df.price.min()\n",
    "                \n",
    "if df.price.iloc[-1] < max_price * 0.95:\n",
    "                        try:\n",
    "                                order = client.futures_create_order(symbol='ETHUSDT', side='SELL', type='MARKET', quantity=100)\n",
    "                                break\n",
    "                        except Exception as e:\n",
    "                                print(e)\n",
    "\n",
    "                elif df.price.iloc[-1] > min_price * 1.05:\n",
    "                        try:\n",
    "                                order = client.futures_create_order(symbol='ETHUSDT', side='BUY', type='MARKET', quantity=100)\n",
    "                                break\n",
    "                        except Exception as e:\n",
    "                                print(e)\n",
    "\n",
    "\tsleep(0.1)"
   ]
  },
  {
   "cell_type": "code",
   "execution_count": null,
   "id": "fdaa0662",
   "metadata": {},
   "outputs": [],
   "source": [
    "bsm.stop()"
   ]
  }
 ],
 "metadata": {
  "kernelspec": {
   "display_name": "Python 3 (ipykernel)",
   "language": "python",
   "name": "python3"
  },
  "language_info": {
   "codemirror_mode": {
    "name": "ipython",
    "version": 3
   },
   "file_extension": ".py",
   "mimetype": "text/x-python",
   "name": "python",
   "nbconvert_exporter": "python",
   "pygments_lexer": "ipython3",
   "version": "3.7.9"
  }
 },
 "nbformat": 4,
 "nbformat_minor": 5
}
