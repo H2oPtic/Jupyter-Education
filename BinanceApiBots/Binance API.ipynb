{
 "cells": [
  {
   "cell_type": "code",
   "execution_count": null,
   "id": "ae82474b",
   "metadata": {},
   "outputs": [],
   "source": [
    "#Set strings with your API key from Binance\n"
   ]
  },
  {
   "cell_type": "code",
   "execution_count": null,
   "id": "62a8d062",
   "metadata": {},
   "outputs": [],
   "source": [
    "#Installing Dependencies:(python-binance, pandas dataframe, mplfinance)\n",
    "!pip install python-binance pandas mplfinance"
   ]
  },
  {
   "cell_type": "code",
   "execution_count": null,
   "id": "102efde9",
   "metadata": {},
   "outputs": [],
   "source": [
    "#Importing dependencies\n",
    "from binance import Client, ThreadedWebsocketManager, ThreadedDepthCacheManager\n",
    "import pandas as pd"
   ]
  },
  {
   "cell_type": "code",
   "execution_count": null,
   "id": "d9877530",
   "metadata": {},
   "outputs": [],
   "source": [
    "#Creating client with API keys\n",
    "client = Client(api_key, api_secret)"
   ]
  },
  {
   "cell_type": "code",
   "execution_count": null,
   "id": "de4f4883",
   "metadata": {},
   "outputs": [],
   "source": [
    "#Using binance GET function to retrieve trading Tickers and setting to variable\n",
    "client.get()\n"
   ]
  },
  {
   "cell_type": "code",
   "execution_count": null,
   "id": "6000d80a",
   "metadata": {},
   "outputs": [],
   "source": [
    "#Testing ticker search\n",
    "tickers[10]['price']"
   ]
  },
  {
   "cell_type": "code",
   "execution_count": null,
   "id": "d635e4bc",
   "metadata": {},
   "outputs": [],
   "source": [
    "#Converting ticker data into Pandas DataFrame for easy access\n",
    "ticker_df = pd.DataFrame(tickers)"
   ]
  },
  {
   "cell_type": "code",
   "execution_count": null,
   "id": "be488f7c",
   "metadata": {},
   "outputs": [],
   "source": [
    "#Testing Pandas command\n",
    "ticker_df.head(15)"
   ]
  },
  {
   "cell_type": "code",
   "execution_count": null,
   "id": "f8c1548e",
   "metadata": {},
   "outputs": [],
   "source": [
    "#Setting index to ticker Symbol instead of number for easier searching\n",
    "ticker_df.set_index('symbol', inplace=True)"
   ]
  },
  {
   "cell_type": "code",
   "execution_count": null,
   "id": "84cebf35",
   "metadata": {},
   "outputs": [],
   "source": [
    "#Testing ticker index\n",
    "ticker_df.loc['BTCUSDT']\n"
   ]
  },
  {
   "cell_type": "code",
   "execution_count": null,
   "id": "867f9ff3",
   "metadata": {},
   "outputs": [],
   "source": [
    "#(Wrap in float to convert into an integer instead of a string)\n",
    "float(ticker_df.loc['GALAUSDT'])"
   ]
  },
  {
   "cell_type": "code",
   "execution_count": null,
   "id": "69042b97",
   "metadata": {},
   "outputs": [],
   "source": [
    "#Getting market Depth using Binance API and setting to a variable\n",
    "depth = client.get_order_book(symbol='BTCUSDT')\n"
   ]
  },
  {
   "cell_type": "code",
   "execution_count": null,
   "id": "060db0b8",
   "metadata": {},
   "outputs": [],
   "source": [
    "#Testing our depth variable\n",
    "depth"
   ]
  },
  {
   "cell_type": "code",
   "execution_count": null,
   "id": "bd3b7de1",
   "metadata": {},
   "outputs": [],
   "source": [
    "#Converting depth data into Pandas DataFrame for easy searching, Seperated Bids from asks, named our columns for clean visual\n",
    "depth_df = pd.DataFrame(depth['bids'])\n",
    "depth_df.columns = ['Price', 'Volume']\n",
    "depth_df.head()"
   ]
  },
  {
   "cell_type": "code",
   "execution_count": null,
   "id": "1fff85c4",
   "metadata": {},
   "outputs": [],
   "source": [
    "#Getting historical Data for a trading pair and setting to a variable\n",
    "historical = client.get_historical_klines('BTCUSDT', Client.KLINE_INTERVAL_1DAY, '1 Jan 2011')\n"
   ]
  },
  {
   "cell_type": "code",
   "execution_count": null,
   "id": "80eda863",
   "metadata": {},
   "outputs": [],
   "source": [
    "#Historical Data[[\n",
    "#Open-Time\n",
    "#Open-Price\n",
    "#High Price\n",
    "#Low Price\n",
    "#Close Price\n",
    "#Volume\n",
    "#Close Time\n",
    "#Quote asset volume\n",
    "#Number of Trades\n",
    "#Taker buy base asset volume\n",
    "#Taker buy quote asset volume\n",
    "#Ignore\n",
    "#]]\n",
    "historical"
   ]
  },
  {
   "cell_type": "code",
   "execution_count": null,
   "id": "90131536",
   "metadata": {},
   "outputs": [],
   "source": [
    "#Converting historical data into Pandas DataFrame\n",
    "hist_df = pd.DataFrame(historical)"
   ]
  },
  {
   "cell_type": "code",
   "execution_count": null,
   "id": "664efaf3",
   "metadata": {},
   "outputs": [],
   "source": [
    "#testing historical Dataframe\n",
    "hist_df.head()"
   ]
  },
  {
   "cell_type": "code",
   "execution_count": null,
   "id": "61b0a745",
   "metadata": {},
   "outputs": [],
   "source": [
    "#Naming our DataFrame Column names\n",
    "hist_df.columns = ['OpenTime', 'Open','High','Low','Close','Volume','CloseTime','QuoteAssetVolume','NumOfTrades','TBbaseAssetVolume',\n",
    "                  'TBquoteAssetVolume','Ignore']"
   ]
  },
  {
   "cell_type": "code",
   "execution_count": null,
   "id": "46718b66",
   "metadata": {},
   "outputs": [],
   "source": [
    "#Testing new Column names\n",
    "hist_df.tail()"
   ]
  },
  {
   "cell_type": "code",
   "execution_count": null,
   "id": "48f61783",
   "metadata": {},
   "outputs": [],
   "source": [
    "#Gives me shape of our DataFrame(rows,columns)\n",
    "hist_df.shape"
   ]
  },
  {
   "cell_type": "code",
   "execution_count": null,
   "id": "117b3fd5",
   "metadata": {},
   "outputs": [],
   "source": [
    "#Checking Data Types stored in our DataFrame\n",
    "hist_df.dtypes"
   ]
  },
  {
   "cell_type": "code",
   "execution_count": null,
   "id": "a42bbee9",
   "metadata": {},
   "outputs": [],
   "source": [
    "#Converting Dates from epoch into datetime64\n",
    "hist_df['OpenTime'] = pd.to_datetime(hist_df['OpenTime']/1000, unit='s')\n",
    "hist_df['CloseTime'] = pd.to_datetime(hist_df['CloseTime']/1000, unit='s')\n"
   ]
  },
  {
   "cell_type": "code",
   "execution_count": null,
   "id": "02971694",
   "metadata": {},
   "outputs": [],
   "source": [
    "#checking dates\n",
    "hist_df.head()"
   ]
  },
  {
   "cell_type": "code",
   "execution_count": null,
   "id": "93c2d9d4",
   "metadata": {},
   "outputs": [],
   "source": [
    "#checking DataTypes\n",
    "hist_df.dtypes"
   ]
  },
  {
   "cell_type": "code",
   "execution_count": null,
   "id": "0187ef48",
   "metadata": {},
   "outputs": [],
   "source": [
    "#Creating a list of Object Values to convert into Integers\n",
    "numeric_columns = ['Open', 'High', 'Low', 'Close', 'Volume', 'QuoteAssetVolume', 'TBbaseAssetVolume', 'TBquoteAssetVolume']"
   ]
  },
  {
   "cell_type": "code",
   "execution_count": null,
   "id": "eba34f70",
   "metadata": {},
   "outputs": [],
   "source": [
    "#Converting all the objects into floats for mathematical implementation\n",
    "hist_df[numeric_columns] = hist_df[numeric_columns].apply(pd.to_numeric, axis=1)"
   ]
  },
  {
   "cell_type": "code",
   "execution_count": null,
   "id": "42bc0856",
   "metadata": {},
   "outputs": [],
   "source": [
    "#Checking to make sure datatypes have changed to floats\n",
    "hist_df.dtypes"
   ]
  },
  {
   "cell_type": "code",
   "execution_count": null,
   "id": "036e522a",
   "metadata": {},
   "outputs": [],
   "source": [
    "#Checking some statistics\n",
    "hist_df.describe()"
   ]
  },
  {
   "cell_type": "code",
   "execution_count": null,
   "id": "6ca4a24b",
   "metadata": {},
   "outputs": [],
   "source": [
    "#importing mpffinance\n",
    "import mplfinance as mpf"
   ]
  },
  {
   "cell_type": "code",
   "execution_count": null,
   "id": "aa4d2a53",
   "metadata": {},
   "outputs": [],
   "source": [
    "#Creating a visual graph of the data using mpf finance\n",
    "mpf.plot(hist_df.set_index('CloseTime').tail(600), type='candle', style='charles', volume=True, \n",
    "         title='Binance_BTCUSDT last 200 days',\n",
    "         mav=(100,200))"
   ]
  }
 ],
 "metadata": {
  "kernelspec": {
   "display_name": "Python 3 (ipykernel)",
   "language": "python",
   "name": "python3"
  },
  "language_info": {
   "codemirror_mode": {
    "name": "ipython",
    "version": 3
   },
   "file_extension": ".py",
   "mimetype": "text/x-python",
   "name": "python",
   "nbconvert_exporter": "python",
   "pygments_lexer": "ipython3",
   "version": "3.7.9"
  }
 },
 "nbformat": 4,
 "nbformat_minor": 5
}
