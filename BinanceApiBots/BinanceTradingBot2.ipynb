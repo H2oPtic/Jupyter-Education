{
 "cells": [
  {
   "cell_type": "code",
   "execution_count": null,
   "id": "838a764d",
   "metadata": {},
   "outputs": [],
   "source": [
    "!pip install python-binance"
   ]
  },
  {
   "cell_type": "code",
   "execution_count": null,
   "id": "8d1444b7",
   "metadata": {},
   "outputs": [],
   "source": [
    "from binance import Client\n",
    "import pandas as pd"
   ]
  },
  {
   "cell_type": "code",
   "execution_count": null,
   "id": "8bc7b0bb",
   "metadata": {},
   "outputs": [],
   "source": []
  },
  {
   "cell_type": "code",
   "execution_count": null,
   "id": "43d4453b",
   "metadata": {},
   "outputs": [],
   "source": [
    "#Setting up client with api keys\n",
    "client = Client(api_key, api_secret)"
   ]
  },
  {
   "cell_type": "code",
   "execution_count": null,
   "id": "28571f16",
   "metadata": {},
   "outputs": [],
   "source": [
    "#Checking API connection\n",
    "client.get_account()"
   ]
  },
  {
   "cell_type": "code",
   "execution_count": null,
   "id": "dac1ee6c",
   "metadata": {},
   "outputs": [],
   "source": [
    "#viewing historical data in a pandas dataframe\n",
    "data = pd.DataFrame(client.get_historical_klines('BTCUSDT', '5m','1 h ago UTC' ))\n",
    "data"
   ]
  },
  {
   "cell_type": "code",
   "execution_count": null,
   "id": "43e066d8",
   "metadata": {},
   "outputs": [],
   "source": [
    "#Creating a function to get historical data, removing non essential columns, converting unix to datetime, converting objects to floats, naming columns\n",
    "def getminutedata(symbol, interval, lookback):\n",
    "    frame = pd.DataFrame(client.get_historical_klines(symbol, interval, lookback + ' h ago' ))\n",
    "    frame = frame.iloc[:,:6]\n",
    "    frame.columns = ['Time', 'Open', 'High', 'Low', 'Close', 'Volume']\n",
    "    frame = frame.set_index('Time')\n",
    "    frame.index = pd.to_datetime(frame.index, unit='ms')\n",
    "    frame = frame.astype(float)\n",
    "    #frame['Volume'] = frame['Volume'] * frame['Close']\n",
    "    return frame\n",
    "    \n",
    "    "
   ]
  },
  {
   "cell_type": "code",
   "execution_count": null,
   "id": "d0672507",
   "metadata": {},
   "outputs": [],
   "source": [
    "#checking our function\n",
    "getminutedata('BTCUSDT', '5m', '5'  )"
   ]
  },
  {
   "cell_type": "code",
   "execution_count": null,
   "id": "1de3d4b3",
   "metadata": {},
   "outputs": [],
   "source": []
  },
  {
   "cell_type": "code",
   "execution_count": null,
   "id": "68981ea3",
   "metadata": {},
   "outputs": [],
   "source": [
    "dat.Open.plot()"
   ]
  },
  {
   "cell_type": "code",
   "execution_count": null,
   "id": "2d029d56",
   "metadata": {},
   "outputs": [],
   "source": [
    "#Trading Strategy\n",
    "def strategytest(symbol, qty, entered=False):\n",
    "    df = getminutedata(symbol, '1m', '30m')\n",
    "    cumulret = (df.Open.pct_change() +1).cumprod() - 1\n",
    "    if not entered:\n",
    "        if cumulret[-1] < -0.002:\n",
    "            order = client.create_order(symbol=symbol, side='BUY', type='MARKET', quantity=qty)\n",
    "            print(order)\n",
    "            entered=True\n",
    "        else:\n",
    "            print('No Trade has been executed')\n",
    "    if entered:\n",
    "        while True:\n",
    "            df = getminutedata(symbol, '1m', '30m')\n",
    "            sincebuy = df.loc[df.index > pd.to_datetime(order['transactTime'], unit='ms')]\n",
    "            if len(sincebuy) > 0:\n",
    "                sincebuyret = (sincebuy.Open.pct_change() +1).cumprod() - 1\n",
    "                if sincebuyret[-1] > 0.0015 or sincebuyret[-1] < -0.0015:\n",
    "                    order = client.create_order(symbol=symbol, side='SELL', type='MARKET', quantity=qty)\n",
    "                    print(order)\n",
    "                    break\n",
    "                "
   ]
  },
  {
   "cell_type": "code",
   "execution_count": null,
   "id": "3a039a34",
   "metadata": {},
   "outputs": [],
   "source": [
    "strategytest('BTCUSDT', 0.001)"
   ]
  },
  {
   "cell_type": "code",
   "execution_count": null,
   "id": "23f8483d",
   "metadata": {
    "scrolled": true
   },
   "outputs": [],
   "source": [
    "strategytest('BTCUSDT', 0.001)"
   ]
  },
  {
   "cell_type": "code",
   "execution_count": null,
   "id": "399f5a4d",
   "metadata": {},
   "outputs": [],
   "source": [
    "strategytest('BTCUSDT', 0.001)"
   ]
  },
  {
   "cell_type": "code",
   "execution_count": null,
   "id": "bf8542cf",
   "metadata": {},
   "outputs": [],
   "source": [
    "strategytest('BTCUSDT', 0.001)"
   ]
  }
 ],
 "metadata": {
  "kernelspec": {
   "display_name": "Python 3 (ipykernel)",
   "language": "python",
   "name": "python3"
  },
  "language_info": {
   "codemirror_mode": {
    "name": "ipython",
    "version": 3
   },
   "file_extension": ".py",
   "mimetype": "text/x-python",
   "name": "python",
   "nbconvert_exporter": "python",
   "pygments_lexer": "ipython3",
   "version": "3.7.9"
  }
 },
 "nbformat": 4,
 "nbformat_minor": 5
}
